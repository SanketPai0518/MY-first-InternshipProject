{
 "cells": [
  {
   "cell_type": "code",
   "execution_count": 4,
   "id": "42d70224-e75f-4317-901c-588632b672e1",
   "metadata": {},
   "outputs": [],
   "source": [
    "import pandas as pd\n",
    "import numpy as np\n",
    "import matplotlib.pyplot as plt\n",
    "from sklearn.model_selection import train_test_split\n",
    "from sklearn.decomposition import PCA\n",
    "from sklearn.discriminant_analysis import LinearDiscriminantAnalysis\n",
    "from sklearn.neural_network import MLPClassifier\n",
    "import os,cv2"
   ]
  },
  {
   "cell_type": "code",
   "execution_count": 6,
   "id": "39ad4a9f-4a75-46b3-af99-c7f502242514",
   "metadata": {},
   "outputs": [
    {
     "name": "stdout",
     "output_type": "stream",
     "text": [
      "Number of samples: 450\n",
      "Number of features: 90000\n",
      "Classes: ['Amitabh', 'Alia', 'Ileana', 'Aamir', 'Akshay', 'Deepika', 'Farhan', 'Disha', 'Ajay']\n"
     ]
    }
   ],
   "source": [
    "import os\n",
    "import cv2\n",
    "import numpy as np\n",
    "\n",
    "directory = \"dataset/faces/\"\n",
    "X = []\n",
    "y = []\n",
    "target = []\n",
    "person_id = 0\n",
    "h = w = 300\n",
    "n_samples = 0\n",
    "classes = []\n",
    "\n",
    "for person_name in os.listdir(directory):\n",
    "    dir_path = os.path.join(directory, person_name)\n",
    "    if os.path.isdir(dir_path):  # Check if it is a directory\n",
    "        classes.append(person_name)\n",
    "        for image_name in os.listdir(dir_path):\n",
    "            image_path = os.path.join(dir_path, image_name)\n",
    "            image = cv2.imread(image_path)\n",
    "            gray = cv2.cvtColor(image, cv2.COLOR_BGR2GRAY)\n",
    "            resized_image = cv2.resize(gray, (h, w))\n",
    "            v = resized_image.flatten()\n",
    "            X.append(v)\n",
    "            n_samples += 1\n",
    "            y.append(person_id)\n",
    "            target.append(person_name)\n",
    "        person_id += 1\n",
    "\n",
    "X = np.array(X)\n",
    "y = np.array(y)\n",
    "target_names = np.array(target)\n",
    "n_features = X.shape[1]\n",
    "\n",
    "print(f\"Number of samples: {n_samples}\")\n",
    "print(f\"Number of features: {n_features}\")\n",
    "print(f\"Classes: {classes}\")\n"
   ]
  },
  {
   "cell_type": "code",
   "execution_count": 8,
   "id": "9b2ebc9d-7e24-4d6e-8490-c8dbf3a7df5a",
   "metadata": {},
   "outputs": [],
   "source": [
    "X_train,X_test,y_train,y_test=train_test_split(X,y,test_size=0.20,random_state=42)\n",
    "n_components=75\n",
    "pca=PCA(n_components=n_components,svd_solver='randomized',whiten=True)\n",
    "pca.fit(X_train)\n",
    "eigenfaces=pca.components_.reshape((n_components,h,w))\n",
    "#eigenface_titles=[\"eigenface %d\" % i for i in range(eigenfaces.shape[0])]\n",
    "#plot_gallery(eigenfaces,eigenface_titles,h,w)\n",
    "#plt.show\n",
    "X_train_pca=pca.transform(X_train)\n",
    "X_test_pca=pca.transform(X_test)\n",
    "lda=LinearDiscriminantAnalysis()\n",
    "lda.fit(X_train_pca,y_train)\n",
    "X_train_lda=lda.transform(X_train_pca)\n",
    "X_test_lda=lda.transform(X_test_pca)"
   ]
  },
  {
   "cell_type": "code",
   "execution_count": 32,
   "id": "ba0194ac-590b-498e-aaef-9e9f02bdafc1",
   "metadata": {},
   "outputs": [
    {
     "ename": "NameError",
     "evalue": "name 'MLPClassifier' is not defined",
     "output_type": "error",
     "traceback": [
      "\u001b[0;31m---------------------------------------------------------------------------\u001b[0m",
      "\u001b[0;31mNameError\u001b[0m                                 Traceback (most recent call last)",
      "Cell \u001b[0;32mIn[32], line 1\u001b[0m\n\u001b[0;32m----> 1\u001b[0m clf\u001b[38;5;241m=\u001b[39mMLPClassifier(random_state\u001b[38;5;241m=\u001b[39m\u001b[38;5;241m42\u001b[39m,hidden_layer_sizes\u001b[38;5;241m=\u001b[39m(\u001b[38;5;241m40\u001b[39m,\u001b[38;5;241m40\u001b[39m),max_iter\u001b[38;5;241m=\u001b[39m\u001b[38;5;241m100\u001b[39m,verbose\u001b[38;5;241m=\u001b[39m\u001b[38;5;28;01mTrue\u001b[39;00m)\n\u001b[1;32m      2\u001b[0m clf\u001b[38;5;241m.\u001b[39mfit(X_train_lda,y_train)\n",
      "\u001b[0;31mNameError\u001b[0m: name 'MLPClassifier' is not defined"
     ]
    }
   ],
   "source": [
    "clf=MLPClassifier(random_state=42,hidden_layer_sizes=(40,40),max_iter=100,verbose=True)\n",
    "clf.fit(X_train_lda,y_train)\n"
   ]
  },
  {
   "cell_type": "code",
   "execution_count": 10,
   "id": "3192cbb1-87de-4764-b5be-c32f91bed575",
   "metadata": {},
   "outputs": [
    {
     "name": "stdout",
     "output_type": "stream",
     "text": [
      "Accuracy: 70.0\n"
     ]
    }
   ],
   "source": [
    "y_predictions = []\n",
    "y_real = []\n",
    "\n",
    "# Collect predictions and true labels\n",
    "for test_faces in X_test_lda:\n",
    "    # Get the class probabilities for the test face\n",
    "    prob = clf.predict_proba([test_faces])[0]\n",
    "    # Find the class ID with the highest probability\n",
    "    class_id = np.argmax(prob)\n",
    "    # Append the predicted class ID to y_predictions\n",
    "    y_predictions.append(class_id)\n",
    "    # Append the true class ID to y_real\n",
    "    y_real.append(y_test[np.where(X_test_lda == test_faces)[0][0]])\n",
    "\n",
    "# Convert lists to numpy arrays\n",
    "y_predictions = np.array(y_predictions)\n",
    "y_real = np.array(y_real)\n",
    "\n",
    "# Initialize variables for accuracy calculation and storing results\n",
    "prediction_title = []\n",
    "true_positive = 0\n",
    "\n",
    "# Iterate through the predictions and true labels\n",
    "for i in range(y_predictions.shape[0]):\n",
    "    true_name = classes[y_real[i]]\n",
    "    pred_name = classes[y_predictions[i]]\n",
    "    result = 'pred: %s, pr: %s \\ntrue: %s' % (pred_name, str(y_real[i]), true_name)\n",
    "    prediction_title.append(result)\n",
    "    # Check if the prediction is correct\n",
    "    if true_name == pred_name:\n",
    "        true_positive += 1\n",
    "\n",
    "# Calculate accuracy\n",
    "accuracy = true_positive * 100 / y_predictions.shape[0]\n",
    "print('Accuracy:', accuracy)\n"
   ]
  },
  {
   "cell_type": "code",
   "execution_count": 12,
   "id": "cc892b69-9c60-4314-b697-693a8d29c773",
   "metadata": {},
   "outputs": [],
   "source": [
    "import os\n",
    "import cv2\n",
    "import numpy as np\n",
    "from sklearn.model_selection import train_test_split\n",
    "from sklearn.decomposition import PCA\n",
    "from sklearn.discriminant_analysis import LinearDiscriminantAnalysis\n",
    "import tensorflow as tf\n",
    "from tensorflow.keras.models import Sequential\n",
    "from tensorflow.keras.layers import Dense\n",
    "from tensorflow.keras.utils import to_categorical\n"
   ]
  },
  {
   "cell_type": "code",
   "execution_count": null,
   "id": "09397c9f-bc1a-447a-87a2-1979f85854e5",
   "metadata": {},
   "outputs": [],
   "source": [
    "\n",
    "# Load and preprocess the dataset\n",
    "directory = \"dataset/faces/\"\n",
    "X = []\n",
    "y = []\n",
    "target = []\n",
    "person_id = 0\n",
    "h, w = 300, 300\n",
    "n_samples = 0\n",
    "classes = []\n",
    "\n",
    "for person_name in os.listdir(directory):\n",
    "    dir_path = os.path.join(directory, person_name)\n",
    "    if os.path.isdir(dir_path):  # Check if it is a directory\n",
    "        classes.append(person_name)\n",
    "        for image_name in os.listdir(dir_path):\n",
    "            image_path = os.path.join(dir_path, image_name)\n",
    "            image = cv2.imread(image_path)\n",
    "            gray = cv2.cvtColor(image, cv2.COLOR_BGR2GRAY)\n",
    "            resized_image = cv2.resize(gray, (h, w))\n",
    "            v = resized_image.flatten()\n",
    "            X.append(v)\n",
    "            n_samples += 1\n",
    "            y.append(person_id)\n",
    "            target.append(person_name)\n",
    "        person_id += 1\n",
    "\n",
    "X = np.array(X)\n",
    "y = np.array(y)\n",
    "target_names = np.array(target)\n",
    "n_features = X.shape[1]\n",
    "\n",
    "print(f\"Number of samples: {n_samples}\")\n",
    "print(f\"Number of features: {n_features}\")\n",
    "print(f\"Classes: {classes}\")\n",
    "\n",
    "# Split the data into training and test sets\n",
    "X_train, X_test, y_train, y_test = train_test_split(X, y, test_size=0.20, random_state=42)\n"
   ]
  },
  {
   "cell_type": "code",
   "execution_count": null,
   "id": "b44e2436-955b-46a6-88b6-8d4989444e69",
   "metadata": {},
   "outputs": [],
   "source": [
    "# Apply PCA\n",
    "n_components = 75\n",
    "pca = PCA(n_components=n_components, svd_solver='auto', whiten=True)\n",
    "pca.fit(X_train)\n",
    "eigenfaces = pca.components_.reshape((n_components, h, w))\n",
    "X_train_pca = pca.transform(X_train)\n",
    "X_test_pca = pca.transform(X_test)\n",
    "\n",
    "# Apply LDA\n",
    "lda = LinearDiscriminantAnalysis()\n",
    "lda.fit(X_train_pca, y_train)\n",
    "X_train_lda = lda.transform(X_train_pca)\n",
    "X_test_lda = lda.transform(X_test_pca)"
   ]
  },
  {
   "cell_type": "code",
   "execution_count": null,
   "id": "2feaad70-4b08-4371-940a-766f65c1632e",
   "metadata": {},
   "outputs": [],
   "source": [
    "\n",
    "# Convert y_train and y_test to one-hot encoded format\n",
    "y_train = to_categorical(y_train, num_classes=len(classes))\n",
    "y_test = to_categorical(y_test, num_classes=len(classes))"
   ]
  },
  {
   "cell_type": "code",
   "execution_count": 92,
   "id": "449c48cd-8bc6-4de3-8c1d-b8169c612563",
   "metadata": {},
   "outputs": [
    {
     "name": "stdout",
     "output_type": "stream",
     "text": [
      "Number of samples: 450\n",
      "Number of features: 90000\n",
      "Classes: ['Amitabh', 'Alia', 'Ileana', 'Aamir', 'Akshay', 'Deepika', 'Farhan', 'Disha', 'Ajay']\n",
      "Epoch 1/10\n",
      "9/9 [==============================] - 0s 9ms/step - loss: 1.6817 - accuracy: 0.4965 - val_loss: 0.9984 - val_accuracy: 0.7917\n",
      "Epoch 2/10\n",
      "9/9 [==============================] - 0s 3ms/step - loss: 0.5563 - accuracy: 0.8646 - val_loss: 0.6780 - val_accuracy: 0.7917\n",
      "Epoch 3/10\n",
      "9/9 [==============================] - 0s 3ms/step - loss: 0.3954 - accuracy: 0.8542 - val_loss: 0.7200 - val_accuracy: 0.8194\n",
      "Epoch 4/10\n",
      "9/9 [==============================] - 0s 3ms/step - loss: 0.2822 - accuracy: 0.8993 - val_loss: 0.9536 - val_accuracy: 0.8056\n",
      "Epoch 5/10\n",
      "9/9 [==============================] - 0s 3ms/step - loss: 0.2363 - accuracy: 0.9167 - val_loss: 0.7641 - val_accuracy: 0.7778\n",
      "Epoch 6/10\n",
      "9/9 [==============================] - 0s 3ms/step - loss: 0.1633 - accuracy: 0.9583 - val_loss: 0.6464 - val_accuracy: 0.8194\n",
      "Epoch 7/10\n",
      "9/9 [==============================] - 0s 3ms/step - loss: 0.1231 - accuracy: 0.9549 - val_loss: 0.7515 - val_accuracy: 0.8056\n",
      "Epoch 8/10\n",
      "9/9 [==============================] - 0s 3ms/step - loss: 0.0995 - accuracy: 0.9722 - val_loss: 0.7691 - val_accuracy: 0.7778\n",
      "Epoch 9/10\n",
      "9/9 [==============================] - 0s 3ms/step - loss: 0.0908 - accuracy: 0.9688 - val_loss: 0.9080 - val_accuracy: 0.7917\n",
      "Epoch 10/10\n",
      "9/9 [==============================] - 0s 3ms/step - loss: 0.0700 - accuracy: 0.9722 - val_loss: 0.8463 - val_accuracy: 0.7917\n",
      "3/3 [==============================] - 0s 1ms/step - loss: 1.3563 - accuracy: 0.7111\n",
      "Accuracy: 71.11111283302307\n",
      "3/3 [==============================] - 0s 1ms/step\n",
      "Accuracy: 71.11111111111111\n"
     ]
    }
   ],
   "source": [
    "\n",
    "\n",
    "# Define the model\n",
    "model = Sequential([\n",
    "    Dense(1024, activation='relu', input_shape=(X_train_lda.shape[-1],)),\n",
    "    Dense(256, activation='relu'),\n",
    "    Dense(256, activation='relu'),\n",
    "    Dense(256, activation='relu'),\n",
    "    Dense(128, activation='relu'),\n",
    "    Dense(len(classes), activation='softmax')  # Number of classes for the output\n",
    "])\n",
    "\n",
    "# Compile the model\n",
    "model.compile(optimizer='adam', loss='categorical_crossentropy', metrics=['accuracy'])\n",
    "\n",
    "# Train the model\n",
    "model.fit(X_train_lda, y_train, epochs=10, batch_size=32, validation_split=0.2)\n",
    "\n",
    "# Evaluate the model\n",
    "accuracy = model.evaluate(X_test_lda, y_test)[1] * 100\n",
    "print(f'Accuracy: {accuracy}')\n",
    "\n",
    "# Predictions and accuracy calculation\n",
    "y_predictions = model.predict(X_test_lda)\n",
    "y_predictions = np.argmax(y_predictions, axis=1)\n",
    "y_real = np.argmax(y_test, axis=1)\n",
    "\n",
    "prediction_title = []\n",
    "true_positive = 0\n",
    "\n",
    "for i in range(y_predictions.shape[0]):\n",
    "    true_name = classes[y_real[i]]\n",
    "    pred_name = classes[y_predictions[i]]\n",
    "    result = 'pred: %s, pr: %s \\ntrue: %s' % (pred_name, str(y_real[i]), true_name)\n",
    "    prediction_title.append(result)\n",
    "    # Check if the prediction is correct\n",
    "    if true_name == pred_name:\n",
    "        true_positive += 1\n",
    "\n",
    "# Calculate accuracy\n",
    "accuracy = true_positive * 100 / y_predictions.shape[0]\n",
    "# Definaccuracy = true_positive * 100 / y_predictions.shape[0]\n",
    "print('Accuracy:', accuracy)\n"
   ]
  },
  {
   "cell_type": "code",
   "execution_count": 70,
   "id": "5497a3c7-cea2-4cbd-82cd-7102456fcbc8",
   "metadata": {},
   "outputs": [],
   "source": [
    "\n"
   ]
  },
  {
   "cell_type": "code",
   "execution_count": null,
   "id": "fbd62389-5de4-459c-98fd-f8b0dedc65ab",
   "metadata": {},
   "outputs": [],
   "source": []
  }
 ],
 "metadata": {
  "kernelspec": {
   "display_name": "Python 3 (ipykernel)",
   "language": "python",
   "name": "python3"
  },
  "language_info": {
   "codemirror_mode": {
    "name": "ipython",
    "version": 3
   },
   "file_extension": ".py",
   "mimetype": "text/x-python",
   "name": "python",
   "nbconvert_exporter": "python",
   "pygments_lexer": "ipython3",
   "version": "3.11.7"
  }
 },
 "nbformat": 4,
 "nbformat_minor": 5
}
